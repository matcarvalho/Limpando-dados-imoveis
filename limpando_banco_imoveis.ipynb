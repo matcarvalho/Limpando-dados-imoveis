{
  "nbformat": 4,
  "nbformat_minor": 0,
  "metadata": {
    "colab": {
      "name": "limpando_banco_imoveis.ipynb",
      "provenance": [],
      "collapsed_sections": [],
      "authorship_tag": "ABX9TyOKuNLOnIcVHVjXAp2PNiHs",
      "include_colab_link": true
    },
    "kernelspec": {
      "name": "python3",
      "display_name": "Python 3"
    },
    "language_info": {
      "name": "python"
    }
  },
  "cells": [
    {
      "cell_type": "markdown",
      "metadata": {
        "id": "view-in-github",
        "colab_type": "text"
      },
      "source": [
        "<a href=\"https://colab.research.google.com/github/matcarvalho/Limpando-dados-imoveis/blob/main/limpando_banco_imoveis.ipynb\" target=\"_parent\"><img src=\"https://colab.research.google.com/assets/colab-badge.svg\" alt=\"Open In Colab\"/></a>"
      ]
    },
    {
      "cell_type": "code",
      "metadata": {
        "id": "zh0iXdlPFiLe"
      },
      "source": [
        "#importações\n",
        "import pandas as pd"
      ],
      "execution_count": null,
      "outputs": []
    },
    {
      "cell_type": "code",
      "metadata": {
        "id": "bHBe07FBIQn6"
      },
      "source": [
        "# Lendo a base de dados\n",
        "vr = pd.read_csv(\"raw_data_10_jun.csv\")"
      ],
      "execution_count": null,
      "outputs": []
    },
    {
      "cell_type": "code",
      "metadata": {
        "colab": {
          "base_uri": "https://localhost:8080/"
        },
        "id": "aFYU6hDvIj4g",
        "outputId": "9c08812c-9eaa-410e-d242-5a897da28b20"
      },
      "source": [
        "#Consultando a forma dos dados\n",
        "vr.values.shape"
      ],
      "execution_count": null,
      "outputs": [
        {
          "output_type": "execute_result",
          "data": {
            "text/plain": [
              "(19440, 13)"
            ]
          },
          "metadata": {},
          "execution_count": 24
        }
      ]
    },
    {
      "cell_type": "code",
      "metadata": {
        "colab": {
          "base_uri": "https://localhost:8080/",
          "height": 625
        },
        "id": "k97XvFFnT5LF",
        "outputId": "b4530348-f900-4422-d24a-6e7ff381e9b9"
      },
      "source": [
        "#Vendo as 5 primeiras linhas\n",
        "vr.head()"
      ],
      "execution_count": null,
      "outputs": [
        {
          "output_type": "execute_result",
          "data": {
            "text/html": [
              "<div>\n",
              "<style scoped>\n",
              "    .dataframe tbody tr th:only-of-type {\n",
              "        vertical-align: middle;\n",
              "    }\n",
              "\n",
              "    .dataframe tbody tr th {\n",
              "        vertical-align: top;\n",
              "    }\n",
              "\n",
              "    .dataframe thead th {\n",
              "        text-align: right;\n",
              "    }\n",
              "</style>\n",
              "<table border=\"1\" class=\"dataframe\">\n",
              "  <thead>\n",
              "    <tr style=\"text-align: right;\">\n",
              "      <th></th>\n",
              "      <th>id</th>\n",
              "      <th>url</th>\n",
              "      <th>header</th>\n",
              "      <th>address</th>\n",
              "      <th>area</th>\n",
              "      <th>rooms</th>\n",
              "      <th>bathrooms</th>\n",
              "      <th>garages</th>\n",
              "      <th>amenities</th>\n",
              "      <th>price</th>\n",
              "      <th>condo</th>\n",
              "      <th>bairro</th>\n",
              "      <th>crawled_at</th>\n",
              "    </tr>\n",
              "  </thead>\n",
              "  <tbody>\n",
              "    <tr>\n",
              "      <th>0</th>\n",
              "      <td>2472650173</td>\n",
              "      <td>https://www.vivareal.com.br/imovel/apartamento...</td>\n",
              "      <td>Apartamento com 2 Quartos à Venda, 64m²</td>\n",
              "      <td>Avenida Portugal, 401 - Brooklin, São Paulo - SP</td>\n",
              "      <td>64</td>\n",
              "      <td>2 Quartos</td>\n",
              "      <td>2 Banheiros</td>\n",
              "      <td>1 Vaga</td>\n",
              "      <td>Elevador\\nAr-condicionado\\nPlayground\\nMóvel p...</td>\n",
              "      <td>R$ 715.000</td>\n",
              "      <td>R$ 778</td>\n",
              "      <td>Brooklin</td>\n",
              "      <td>2021-06-10 16:17</td>\n",
              "    </tr>\n",
              "    <tr>\n",
              "      <th>1</th>\n",
              "      <td>https://www.vivareal.com.br/imoveis-lancamento...</td>\n",
              "      <td>https://www.vivareal.com.br/imoveis-lancamento...</td>\n",
              "      <td>Only Cidade Jardim</td>\n",
              "      <td>Avenida Ulysses Reis de Mattos, 100 - Real Par...</td>\n",
              "      <td>186-252</td>\n",
              "      <td>3 Quartos</td>\n",
              "      <td>4 Banheiros</td>\n",
              "      <td>2-4 Vagas</td>\n",
              "      <td>NaN</td>\n",
              "      <td>A partir de\\nR$ 2.517.769</td>\n",
              "      <td>NaN</td>\n",
              "      <td>Brooklin</td>\n",
              "      <td>2021-06-10 16:17</td>\n",
              "    </tr>\n",
              "    <tr>\n",
              "      <th>2</th>\n",
              "      <td>2510654835</td>\n",
              "      <td>https://www.vivareal.com.br/imovel/apartamento...</td>\n",
              "      <td>Apartamento com 3 Quartos à Venda, 170m²</td>\n",
              "      <td>Rua Pensilvânia, 742 - Brooklin, São Paulo - SP</td>\n",
              "      <td>170</td>\n",
              "      <td>3 Quartos</td>\n",
              "      <td>5 Banheiros</td>\n",
              "      <td>3 Vagas</td>\n",
              "      <td>Piscina\\nVaranda gourmet\\nMobiliado\\nAcademia\\...</td>\n",
              "      <td>R$ 2.050.000</td>\n",
              "      <td>R$ 2.323</td>\n",
              "      <td>Brooklin</td>\n",
              "      <td>2021-06-10 16:17</td>\n",
              "    </tr>\n",
              "    <tr>\n",
              "      <th>3</th>\n",
              "      <td>2511557601</td>\n",
              "      <td>https://www.vivareal.com.br/imovel/apartamento...</td>\n",
              "      <td>Apartamento com 3 Quartos à Venda, 218m²</td>\n",
              "      <td>Rua Laplace, 44 - Brooklin, São Paulo - SP</td>\n",
              "      <td>218</td>\n",
              "      <td>3 Quartos</td>\n",
              "      <td>5 Banheiros</td>\n",
              "      <td>4 Vagas</td>\n",
              "      <td>Piscina\\nVaranda gourmet\\nChurrasqueira\\nVaran...</td>\n",
              "      <td>R$ 2.520.000</td>\n",
              "      <td>R$ 2.800</td>\n",
              "      <td>Brooklin</td>\n",
              "      <td>2021-06-10 16:17</td>\n",
              "    </tr>\n",
              "    <tr>\n",
              "      <th>4</th>\n",
              "      <td>2522220295</td>\n",
              "      <td>https://www.vivareal.com.br/imovel/apartamento...</td>\n",
              "      <td>Apartamento com 3 Quartos à Venda, 116m²</td>\n",
              "      <td>Rua Arandu, 660 - Brooklin, São Paulo - SP</td>\n",
              "      <td>116</td>\n",
              "      <td>3 Quartos</td>\n",
              "      <td>3 Banheiros</td>\n",
              "      <td>-- Vaga</td>\n",
              "      <td>Piscina\\nAcademia\\nElevador\\nJardim\\nQuadra po...</td>\n",
              "      <td>R$ 1.450.000</td>\n",
              "      <td>R$ 1.600</td>\n",
              "      <td>Brooklin</td>\n",
              "      <td>2021-06-10 16:17</td>\n",
              "    </tr>\n",
              "  </tbody>\n",
              "</table>\n",
              "</div>"
            ],
            "text/plain": [
              "                                                  id  ...        crawled_at\n",
              "0                                         2472650173  ...  2021-06-10 16:17\n",
              "1  https://www.vivareal.com.br/imoveis-lancamento...  ...  2021-06-10 16:17\n",
              "2                                         2510654835  ...  2021-06-10 16:17\n",
              "3                                         2511557601  ...  2021-06-10 16:17\n",
              "4                                         2522220295  ...  2021-06-10 16:17\n",
              "\n",
              "[5 rows x 13 columns]"
            ]
          },
          "metadata": {},
          "execution_count": 25
        }
      ]
    },
    {
      "cell_type": "markdown",
      "metadata": {
        "id": "6HA0Bta9LPr_"
      },
      "source": [
        "#Comandos úteis\n",
        "\n",
        "Comando úteis\n",
        "vr -> No caso é o nome do dataframe que estamos trabalhando\n",
        "\n",
        "vr.head() -> Mostra as primeiras linhas\n",
        "\n",
        "vr.tail() -> Mostra as ultimas linhas\n",
        "\n",
        "vr.columns -> Nome das columnas\n",
        "\n",
        "vr.shape -> Mostra o \"formato\" do dataframe\n",
        "\n",
        "vr.duplicated(subset=[lista de colunas]) -> retorna verdadeiro para as linhas duplicadas\n",
        "\n",
        "vr.drop_duplicates(subset=[lista_de_colunas], keep=\"first\") -> remover duplicados da base\n",
        "\n",
        "vr.info() -> Mostra um resumo da tabela, com o tipo de dados de cada coluna\n",
        "\n",
        "vr[nome da coluna].unique() -> Mostra os valores unicos dessa coluna\n",
        "\n",
        "vr[\"NOMEDACOLUNA\"].str.split(\" \") -> Separa as strings da coluna NOMEDACOLUNA string no espaco. Ex: \"Um brinquedo\"-> [\"Um\", \"brinquedo\"]\n",
        "\n",
        "vr[\"NOMEDACOLUNA\"].str.replace(\"a\", \"b\") -> Para todas as strings da coluna NOMEDACOLUNA, substitui a por b. Ex: \"abacate\" -> \"bbbcbte\"\n",
        "\n",
        "vr.reset_index(drop=False) -> Re-constroi o indice sem pular valores. Util sempre que fizer alguma operacao que remova linhas para evitar warnings\n",
        "\n",
        "vr[\"NOMEDACOLUNA\"].isnull() -> Filtro para detectar null na coluna NOMEDACOLUNA\n",
        "\n",
        "vr.dropna() -> Remove linhas que tiverem nulls.\n",
        "\n",
        "vr.dropna(subset=[\"NOMEDACOLUNA\"]) -> Remove linhas que tiverem nulls na coluna NOMEDACOLUNA.\n",
        "\n",
        "vr.fillna(\"ERRO\") -> Substitui valores null pelo valor \"ERRO\""
      ]
    },
    {
      "cell_type": "markdown",
      "metadata": {
        "id": "qUdnHBHOJpHY"
      },
      "source": [
        "#Removendo dados duplicados"
      ]
    },
    {
      "cell_type": "code",
      "metadata": {
        "colab": {
          "base_uri": "https://localhost:8080/"
        },
        "id": "sLsMGcI8IpV4",
        "outputId": "7711a74b-300a-4552-940d-73e5d6a788a0"
      },
      "source": [
        "vr.columns"
      ],
      "execution_count": null,
      "outputs": [
        {
          "output_type": "execute_result",
          "data": {
            "text/plain": [
              "Index(['id', 'url', 'header', 'address', 'area', 'rooms', 'bathrooms',\n",
              "       'garages', 'amenities', 'price', 'condo', 'bairro', 'crawled_at'],\n",
              "      dtype='object')"
            ]
          },
          "metadata": {},
          "execution_count": 26
        }
      ]
    },
    {
      "cell_type": "code",
      "metadata": {
        "colab": {
          "base_uri": "https://localhost:8080/",
          "height": 205
        },
        "id": "2gTtMq4IJtXW",
        "outputId": "71223608-03e4-4905-db59-74ae43c412a1"
      },
      "source": [
        "#Localizando valores duplicados\n",
        "vr[vr.duplicated(keep = False)].head(1)"
      ],
      "execution_count": null,
      "outputs": [
        {
          "output_type": "execute_result",
          "data": {
            "text/html": [
              "<div>\n",
              "<style scoped>\n",
              "    .dataframe tbody tr th:only-of-type {\n",
              "        vertical-align: middle;\n",
              "    }\n",
              "\n",
              "    .dataframe tbody tr th {\n",
              "        vertical-align: top;\n",
              "    }\n",
              "\n",
              "    .dataframe thead th {\n",
              "        text-align: right;\n",
              "    }\n",
              "</style>\n",
              "<table border=\"1\" class=\"dataframe\">\n",
              "  <thead>\n",
              "    <tr style=\"text-align: right;\">\n",
              "      <th></th>\n",
              "      <th>id</th>\n",
              "      <th>url</th>\n",
              "      <th>header</th>\n",
              "      <th>address</th>\n",
              "      <th>area</th>\n",
              "      <th>rooms</th>\n",
              "      <th>bathrooms</th>\n",
              "      <th>garages</th>\n",
              "      <th>amenities</th>\n",
              "      <th>price</th>\n",
              "      <th>condo</th>\n",
              "      <th>bairro</th>\n",
              "      <th>crawled_at</th>\n",
              "    </tr>\n",
              "  </thead>\n",
              "  <tbody>\n",
              "    <tr>\n",
              "      <th>34</th>\n",
              "      <td>2521587260</td>\n",
              "      <td>https://www.vivareal.com.br/imovel/apartamento...</td>\n",
              "      <td>Apartamento com 3 Quartos à Venda, 100m²</td>\n",
              "      <td>Rua Flórida, 76 - Brooklin, São Paulo - SP</td>\n",
              "      <td>100</td>\n",
              "      <td>3 Quartos</td>\n",
              "      <td>3 Banheiros</td>\n",
              "      <td>2 Vagas</td>\n",
              "      <td>Piscina\\nCondomínio fechado\\nQuadra poliesport...</td>\n",
              "      <td>R$ 890.000</td>\n",
              "      <td>R$ 1.000</td>\n",
              "      <td>Brooklin</td>\n",
              "      <td>2021-06-10 16:17</td>\n",
              "    </tr>\n",
              "  </tbody>\n",
              "</table>\n",
              "</div>"
            ],
            "text/plain": [
              "            id  ...        crawled_at\n",
              "34  2521587260  ...  2021-06-10 16:17\n",
              "\n",
              "[1 rows x 13 columns]"
            ]
          },
          "metadata": {},
          "execution_count": 27
        }
      ]
    },
    {
      "cell_type": "code",
      "metadata": {
        "colab": {
          "base_uri": "https://localhost:8080/",
          "height": 475
        },
        "id": "MhTdS80IKNTo",
        "outputId": "7d6583c5-3eb7-48b8-b94f-956c03a86828"
      },
      "source": [
        "#Checando um valor duplicado\n",
        "vr.loc[vr[\"id\"] == \"2521587260\"]"
      ],
      "execution_count": null,
      "outputs": [
        {
          "output_type": "execute_result",
          "data": {
            "text/html": [
              "<div>\n",
              "<style scoped>\n",
              "    .dataframe tbody tr th:only-of-type {\n",
              "        vertical-align: middle;\n",
              "    }\n",
              "\n",
              "    .dataframe tbody tr th {\n",
              "        vertical-align: top;\n",
              "    }\n",
              "\n",
              "    .dataframe thead th {\n",
              "        text-align: right;\n",
              "    }\n",
              "</style>\n",
              "<table border=\"1\" class=\"dataframe\">\n",
              "  <thead>\n",
              "    <tr style=\"text-align: right;\">\n",
              "      <th></th>\n",
              "      <th>id</th>\n",
              "      <th>url</th>\n",
              "      <th>header</th>\n",
              "      <th>address</th>\n",
              "      <th>area</th>\n",
              "      <th>rooms</th>\n",
              "      <th>bathrooms</th>\n",
              "      <th>garages</th>\n",
              "      <th>amenities</th>\n",
              "      <th>price</th>\n",
              "      <th>condo</th>\n",
              "      <th>bairro</th>\n",
              "      <th>crawled_at</th>\n",
              "    </tr>\n",
              "  </thead>\n",
              "  <tbody>\n",
              "    <tr>\n",
              "      <th>34</th>\n",
              "      <td>2521587260</td>\n",
              "      <td>https://www.vivareal.com.br/imovel/apartamento...</td>\n",
              "      <td>Apartamento com 3 Quartos à Venda, 100m²</td>\n",
              "      <td>Rua Flórida, 76 - Brooklin, São Paulo - SP</td>\n",
              "      <td>100</td>\n",
              "      <td>3 Quartos</td>\n",
              "      <td>3 Banheiros</td>\n",
              "      <td>2 Vagas</td>\n",
              "      <td>Piscina\\nCondomínio fechado\\nQuadra poliesport...</td>\n",
              "      <td>R$ 890.000</td>\n",
              "      <td>R$ 1.000</td>\n",
              "      <td>Brooklin</td>\n",
              "      <td>2021-06-10 16:17</td>\n",
              "    </tr>\n",
              "    <tr>\n",
              "      <th>36</th>\n",
              "      <td>2521587260</td>\n",
              "      <td>https://www.vivareal.com.br/imovel/apartamento...</td>\n",
              "      <td>Apartamento com 3 Quartos à Venda, 100m²</td>\n",
              "      <td>Rua Flórida, 76 - Brooklin, São Paulo - SP</td>\n",
              "      <td>100</td>\n",
              "      <td>3 Quartos</td>\n",
              "      <td>3 Banheiros</td>\n",
              "      <td>2 Vagas</td>\n",
              "      <td>Piscina\\nCondomínio fechado\\nQuadra poliesport...</td>\n",
              "      <td>R$ 890.000</td>\n",
              "      <td>R$ 1.000</td>\n",
              "      <td>Brooklin</td>\n",
              "      <td>2021-06-10 16:17</td>\n",
              "    </tr>\n",
              "    <tr>\n",
              "      <th>602</th>\n",
              "      <td>2521587260</td>\n",
              "      <td>https://www.vivareal.com.br/imovel/apartamento...</td>\n",
              "      <td>Apartamento com 3 Quartos à Venda, 100m²</td>\n",
              "      <td>Rua Flórida, 76 - Brooklin, São Paulo - SP</td>\n",
              "      <td>100</td>\n",
              "      <td>3 Quartos</td>\n",
              "      <td>3 Banheiros</td>\n",
              "      <td>2 Vagas</td>\n",
              "      <td>Piscina\\nCondomínio fechado\\nQuadra poliesport...</td>\n",
              "      <td>R$ 890.000</td>\n",
              "      <td>R$ 1.000</td>\n",
              "      <td>Brooklin</td>\n",
              "      <td>2021-06-10 16:22</td>\n",
              "    </tr>\n",
              "  </tbody>\n",
              "</table>\n",
              "</div>"
            ],
            "text/plain": [
              "             id  ...        crawled_at\n",
              "34   2521587260  ...  2021-06-10 16:17\n",
              "36   2521587260  ...  2021-06-10 16:17\n",
              "602  2521587260  ...  2021-06-10 16:22\n",
              "\n",
              "[3 rows x 13 columns]"
            ]
          },
          "metadata": {},
          "execution_count": 28
        }
      ]
    },
    {
      "cell_type": "code",
      "metadata": {
        "id": "B16wjL9bKoPf"
      },
      "source": [
        "#removendo os duplicados\n",
        "vr = vr.drop_duplicates(subset = [\"id\", \"url\"], keep = \"first\")"
      ],
      "execution_count": null,
      "outputs": []
    },
    {
      "cell_type": "code",
      "metadata": {
        "colab": {
          "base_uri": "https://localhost:8080/",
          "height": 49
        },
        "id": "Jd1toPP8L4SQ",
        "outputId": "4f963b0a-9f5f-41e0-ae2e-1d24c15d6f06"
      },
      "source": [
        "#Checando se os duplicados foram removidos\n",
        "vr[vr.duplicated(keep = False)]"
      ],
      "execution_count": null,
      "outputs": [
        {
          "output_type": "execute_result",
          "data": {
            "text/html": [
              "<div>\n",
              "<style scoped>\n",
              "    .dataframe tbody tr th:only-of-type {\n",
              "        vertical-align: middle;\n",
              "    }\n",
              "\n",
              "    .dataframe tbody tr th {\n",
              "        vertical-align: top;\n",
              "    }\n",
              "\n",
              "    .dataframe thead th {\n",
              "        text-align: right;\n",
              "    }\n",
              "</style>\n",
              "<table border=\"1\" class=\"dataframe\">\n",
              "  <thead>\n",
              "    <tr style=\"text-align: right;\">\n",
              "      <th></th>\n",
              "      <th>id</th>\n",
              "      <th>url</th>\n",
              "      <th>header</th>\n",
              "      <th>address</th>\n",
              "      <th>area</th>\n",
              "      <th>rooms</th>\n",
              "      <th>bathrooms</th>\n",
              "      <th>garages</th>\n",
              "      <th>amenities</th>\n",
              "      <th>price</th>\n",
              "      <th>condo</th>\n",
              "      <th>bairro</th>\n",
              "      <th>crawled_at</th>\n",
              "    </tr>\n",
              "  </thead>\n",
              "  <tbody>\n",
              "  </tbody>\n",
              "</table>\n",
              "</div>"
            ],
            "text/plain": [
              "Empty DataFrame\n",
              "Columns: [id, url, header, address, area, rooms, bathrooms, garages, amenities, price, condo, bairro, crawled_at]\n",
              "Index: []"
            ]
          },
          "metadata": {},
          "execution_count": 30
        }
      ]
    },
    {
      "cell_type": "code",
      "metadata": {
        "colab": {
          "base_uri": "https://localhost:8080/"
        },
        "id": "9G5KG15AM4a-",
        "outputId": "8c1e5261-a835-4108-b7a4-54826434486c"
      },
      "source": [
        "vr.shape"
      ],
      "execution_count": null,
      "outputs": [
        {
          "output_type": "execute_result",
          "data": {
            "text/plain": [
              "(16105, 13)"
            ]
          },
          "metadata": {},
          "execution_count": 31
        }
      ]
    },
    {
      "cell_type": "markdown",
      "metadata": {
        "id": "kXGqJNrRMvo-"
      },
      "source": [
        "# Checando o tipo dos dados"
      ]
    },
    {
      "cell_type": "code",
      "metadata": {
        "colab": {
          "base_uri": "https://localhost:8080/"
        },
        "id": "xpUZj5EZMylu",
        "outputId": "c3507072-efc0-40ea-e289-11e3c997e986"
      },
      "source": [
        "vr.info()"
      ],
      "execution_count": null,
      "outputs": [
        {
          "output_type": "stream",
          "name": "stdout",
          "text": [
            "<class 'pandas.core.frame.DataFrame'>\n",
            "Int64Index: 16105 entries, 0 to 19439\n",
            "Data columns (total 13 columns):\n",
            " #   Column      Non-Null Count  Dtype \n",
            "---  ------      --------------  ----- \n",
            " 0   id          16105 non-null  object\n",
            " 1   url         16105 non-null  object\n",
            " 2   header      16105 non-null  object\n",
            " 3   address     16105 non-null  object\n",
            " 4   area        16105 non-null  object\n",
            " 5   rooms       16105 non-null  object\n",
            " 6   bathrooms   16105 non-null  object\n",
            " 7   garages     16105 non-null  object\n",
            " 8   amenities   13064 non-null  object\n",
            " 9   price       16105 non-null  object\n",
            " 10  condo       13263 non-null  object\n",
            " 11  bairro      16105 non-null  object\n",
            " 12  crawled_at  16105 non-null  object\n",
            "dtypes: object(13)\n",
            "memory usage: 1.7+ MB\n"
          ]
        }
      ]
    },
    {
      "cell_type": "markdown",
      "metadata": {
        "id": "ZwG1_grFWCFj"
      },
      "source": [
        "# Analisando os dados"
      ]
    },
    {
      "cell_type": "code",
      "metadata": {
        "colab": {
          "base_uri": "https://localhost:8080/"
        },
        "id": "9UQczkijWH0D",
        "outputId": "e6e3b8d1-2478-4bf7-d2fe-7e38f63781ac"
      },
      "source": [
        "vr[\"id\"]"
      ],
      "execution_count": null,
      "outputs": [
        {
          "output_type": "execute_result",
          "data": {
            "text/plain": [
              "0                                               2472650173\n",
              "1        https://www.vivareal.com.br/imoveis-lancamento...\n",
              "2                                               2510654835\n",
              "3                                               2511557601\n",
              "4                                               2522220295\n",
              "                               ...                        \n",
              "19435                                           2517456409\n",
              "19436                                           2512290679\n",
              "19437                                           2475025733\n",
              "19438                                           2519981464\n",
              "19439                                           2514394292\n",
              "Name: id, Length: 16105, dtype: object"
            ]
          },
          "metadata": {},
          "execution_count": 33
        }
      ]
    },
    {
      "cell_type": "code",
      "metadata": {
        "colab": {
          "base_uri": "https://localhost:8080/"
        },
        "id": "Z9Co1yGtWLLV",
        "outputId": "d76e1065-1a6c-462c-8a50-4a81f03c7464"
      },
      "source": [
        "#Verificando se a minha segunda linha é um número\n",
        "vr[\"id\"][1].isnumeric()"
      ],
      "execution_count": null,
      "outputs": [
        {
          "output_type": "execute_result",
          "data": {
            "text/plain": [
              "False"
            ]
          },
          "metadata": {},
          "execution_count": 34
        }
      ]
    },
    {
      "cell_type": "code",
      "metadata": {
        "id": "xq-WprFCWVnz"
      },
      "source": [
        "#Identifiquei que tem alguns id's que não são números, preciso remover esses anúncios\n",
        "filtro_de_anuncio = [w.isnumeric() for w in vr[\"id\"]]\n",
        "#O pandas me retorna somente as linhas com True e resetando o índice\n",
        "vr = vr[filtro_de_anuncio].reset_index(drop = True)"
      ],
      "execution_count": null,
      "outputs": []
    },
    {
      "cell_type": "markdown",
      "metadata": {
        "id": "qALXVyEEZntA"
      },
      "source": [
        "# Ajustando os tipos de dados"
      ]
    },
    {
      "cell_type": "markdown",
      "metadata": {
        "id": "p9Y5KAUzbHnT"
      },
      "source": [
        "### Id"
      ]
    },
    {
      "cell_type": "code",
      "metadata": {
        "id": "usjZqWQtXGSM"
      },
      "source": [
        "#Convertendo o id em número\n",
        "vr[\"id\"] = vr[\"id\"].astype(int)"
      ],
      "execution_count": null,
      "outputs": []
    },
    {
      "cell_type": "markdown",
      "metadata": {
        "id": "eNhwtXA5bKFr"
      },
      "source": [
        "### Área"
      ]
    },
    {
      "cell_type": "code",
      "metadata": {
        "id": "ictLYpc0Zqo5"
      },
      "source": [
        "#Convertendo a área em número\n",
        "vr[\"area\"] = vr[\"area\"].astype(int)"
      ],
      "execution_count": null,
      "outputs": []
    },
    {
      "cell_type": "markdown",
      "metadata": {
        "id": "74lt3HcZbMlE"
      },
      "source": [
        "### Quartos"
      ]
    },
    {
      "cell_type": "code",
      "metadata": {
        "id": "0ydpjQLMbOGz"
      },
      "source": [
        "#Trabalhando com string e convertendo o resultado final para inteiro\n",
        "vr[\"rooms\"] = vr[\"rooms\"].str.split(\" \").str[0].str.replace(\"--\",\"0\").astype(int)"
      ],
      "execution_count": null,
      "outputs": []
    },
    {
      "cell_type": "markdown",
      "metadata": {
        "id": "VfAvz1bod0dg"
      },
      "source": [
        "### Banheiros"
      ]
    },
    {
      "cell_type": "code",
      "metadata": {
        "id": "e2agqJNId3JH"
      },
      "source": [
        "#Trabalhando com string e convertendo o resultado final para inteiro\n",
        "vr[\"bathrooms\"] = vr[\"bathrooms\"].str.split(\" \").str[0].str.replace(\"--\",\"0\").astype(int)"
      ],
      "execution_count": null,
      "outputs": []
    },
    {
      "cell_type": "markdown",
      "metadata": {
        "id": "rIurL8TFedsA"
      },
      "source": [
        "### Garagens"
      ]
    },
    {
      "cell_type": "code",
      "metadata": {
        "id": "izWDzbihegvp"
      },
      "source": [
        "#Trabalhando com string e convertendo o resultado final para inteiro\n",
        "vr[\"garages\"] = vr[\"garages\"].str.split(\" \").str[0].str.replace(\"--\",\"0\").astype(int)"
      ],
      "execution_count": null,
      "outputs": []
    },
    {
      "cell_type": "markdown",
      "metadata": {
        "id": "hw9KnLsVf91G"
      },
      "source": [
        "### Preço"
      ]
    },
    {
      "cell_type": "code",
      "metadata": {
        "id": "7V1SUbmDf_pt"
      },
      "source": [
        "#Trabalhando com string e convertendo o resultado final para inteiro\n",
        "vr[\"price\"] = vr[\"price\"].str.split(\" \").str[-1].str.replace(\".\",\"\").astype(int)"
      ],
      "execution_count": null,
      "outputs": []
    },
    {
      "cell_type": "markdown",
      "metadata": {
        "id": "X0AYb0hrgCi3"
      },
      "source": [
        "### Condomínio"
      ]
    },
    {
      "cell_type": "code",
      "metadata": {
        "id": "Usya-LdEgFll"
      },
      "source": [
        "#Trabalhando com string e convertendo o resultado final para inteiro\n",
        "vr[\"condo\"] = vr[\"condo\"].str.split(\" \").str[1].str.replace(\".\",\"\").astype(float)"
      ],
      "execution_count": null,
      "outputs": []
    },
    {
      "cell_type": "markdown",
      "metadata": {
        "id": "bl9BKBhxmsgC"
      },
      "source": [
        "### Data"
      ]
    },
    {
      "cell_type": "code",
      "metadata": {
        "id": "TaFf6ZJdmuiv"
      },
      "source": [
        "#Convertendo a coluna para formato data\n",
        "vr['crawled_at'] = pd.to_datetime(vr['crawled_at'])"
      ],
      "execution_count": null,
      "outputs": []
    },
    {
      "cell_type": "markdown",
      "metadata": {
        "id": "a2vlarrkqrfi"
      },
      "source": [
        "### Trabalhando com Amenities"
      ]
    },
    {
      "cell_type": "code",
      "metadata": {
        "id": "uMQHhgivqxGU"
      },
      "source": [
        "#Transformando os dados de linhas em colunas e concatenando ao dataframe\n",
        "vr = pd.concat([vr,vr['amenities'].str.get_dummies(sep=\"\\n\")], axis=1)\n",
        "\n",
        "\n",
        "#Removendo a coluna Amenities\n",
        "vr = vr.drop(columns=[\"amenities\"])"
      ],
      "execution_count": null,
      "outputs": []
    },
    {
      "cell_type": "code",
      "metadata": {
        "colab": {
          "base_uri": "https://localhost:8080/"
        },
        "id": "4Lg1yK0UnCbZ",
        "outputId": "b94d28e0-b539-4f41-b3e1-e9b36a8c2971"
      },
      "source": [
        "vr.info()"
      ],
      "execution_count": null,
      "outputs": [
        {
          "output_type": "stream",
          "name": "stdout",
          "text": [
            "<class 'pandas.core.frame.DataFrame'>\n",
            "RangeIndex: 15259 entries, 0 to 15258\n",
            "Data columns (total 96 columns):\n",
            " #   Column                        Non-Null Count  Dtype         \n",
            "---  ------                        --------------  -----         \n",
            " 0   id                            15259 non-null  int64         \n",
            " 1   url                           15259 non-null  object        \n",
            " 2   header                        15259 non-null  object        \n",
            " 3   address                       15259 non-null  object        \n",
            " 4   area                          15259 non-null  int64         \n",
            " 5   rooms                         15259 non-null  int64         \n",
            " 6   bathrooms                     15259 non-null  int64         \n",
            " 7   garages                       15259 non-null  int64         \n",
            " 8   price                         15259 non-null  int64         \n",
            " 9   condo                         13263 non-null  float64       \n",
            " 10  bairro                        15259 non-null  object        \n",
            " 11  crawled_at                    15259 non-null  datetime64[ns]\n",
            " 12  Academia                      15259 non-null  int64         \n",
            " 13  Aceita animais                15259 non-null  int64         \n",
            " 14  Acesso para deficientes       15259 non-null  int64         \n",
            " 15  Aquecimento                   15259 non-null  int64         \n",
            " 16  Ar-condicionado               15259 non-null  int64         \n",
            " 17  Armário embutido              15259 non-null  int64         \n",
            " 18  Armário embutido no quarto    15259 non-null  int64         \n",
            " 19  Armário na cozinha            15259 non-null  int64         \n",
            " 20  Armário no banheiro           15259 non-null  int64         \n",
            " 21  Bicicletário                  15259 non-null  int64         \n",
            " 22  Box blindex                   15259 non-null  int64         \n",
            " 23  Cabeamento estruturado        15259 non-null  int64         \n",
            " 24  Churrasqueira                 15259 non-null  int64         \n",
            " 25  Cinema                        15259 non-null  int64         \n",
            " 26  Circuito de segurança         15259 non-null  int64         \n",
            " 27  Closet                        15259 non-null  int64         \n",
            " 28  Condomínio fechado            15259 non-null  int64         \n",
            " 29  Conexão à internet            15259 non-null  int64         \n",
            " 30  Copa                          15259 non-null  int64         \n",
            " 31  Coworking                     15259 non-null  int64         \n",
            " 32  Cozinha                       15259 non-null  int64         \n",
            " 33  Cozinha americana             15259 non-null  int64         \n",
            " 34  Cozinha grande                15259 non-null  int64         \n",
            " 35  Câmera de segurança           15259 non-null  int64         \n",
            " 36  Depósito                      15259 non-null  int64         \n",
            " 37  Elevador                      15259 non-null  int64         \n",
            " 38  Escritório                    15259 non-null  int64         \n",
            " 39  Espaço gourmet                15259 non-null  int64         \n",
            " 40  Espaço teen                   15259 non-null  int64         \n",
            " 41  Espaço verde / Parque         15259 non-null  int64         \n",
            " 42  Espelhos d'água               15259 non-null  int64         \n",
            " 43  Garage band                   15259 non-null  int64         \n",
            " 44  Garagem                       15259 non-null  int64         \n",
            " 45  Gerador elétrico              15259 non-null  int64         \n",
            " 46  Gramado                       15259 non-null  int64         \n",
            " 47  Guarita                       15259 non-null  int64         \n",
            " 48  Gás Encanado                  15259 non-null  int64         \n",
            " 49  Interfone                     15259 non-null  int64         \n",
            " 50  Janela grande                 15259 non-null  int64         \n",
            " 51  Jardim                        15259 non-null  int64         \n",
            " 52  Lareira                       15259 non-null  int64         \n",
            " 53  Lavabo                        15259 non-null  int64         \n",
            " 54  Lavanderia                    15259 non-null  int64         \n",
            " 55  Mais de um andar              15259 non-null  int64         \n",
            " 56  Mobiliado                     15259 non-null  int64         \n",
            " 57  Móvel planejado               15259 non-null  int64         \n",
            " 58  Perto de vias de acesso       15259 non-null  int64         \n",
            " 59  Piscina                       15259 non-null  int64         \n",
            " 60  Piscina coberta               15259 non-null  int64         \n",
            " 61  Piscina infantil              15259 non-null  int64         \n",
            " 62  Piscina para adulto           15259 non-null  int64         \n",
            " 63  Piso frio                     15259 non-null  int64         \n",
            " 64  Pista de cooper               15259 non-null  int64         \n",
            " 65  Playground                    15259 non-null  int64         \n",
            " 66  Portaria 24h                  15259 non-null  int64         \n",
            " 67  Portão eletrônico             15259 non-null  int64         \n",
            " 68  Próximo a escola              15259 non-null  int64         \n",
            " 69  Próximo a hospitais           15259 non-null  int64         \n",
            " 70  Próximo a shopping            15259 non-null  int64         \n",
            " 71  Próximo a transporte público  15259 non-null  int64         \n",
            " 72  Quadra de squash              15259 non-null  int64         \n",
            " 73  Quadra de tênis               15259 non-null  int64         \n",
            " 74  Quadra poliesportiva          15259 non-null  int64         \n",
            " 75  Quintal                       15259 non-null  int64         \n",
            " 76  Recepção                      15259 non-null  int64         \n",
            " 77  Sala de jantar                15259 non-null  int64         \n",
            " 78  Sala de massagem              15259 non-null  int64         \n",
            " 79  Salão de festas               15259 non-null  int64         \n",
            " 80  Salão de jogos                15259 non-null  int64         \n",
            " 81  Sauna                         15259 non-null  int64         \n",
            " 82  Segurança 24h                 15259 non-null  int64         \n",
            " 83  Serviços pay per use          15259 non-null  int64         \n",
            " 84  Serviços públicos essenciais  15259 non-null  int64         \n",
            " 85  Sistema de alarme             15259 non-null  int64         \n",
            " 86  Spa                           15259 non-null  int64         \n",
            " 87  TV a cabo                     15259 non-null  int64         \n",
            " 88  Varanda                       15259 non-null  int64         \n",
            " 89  Varanda fechada com vidro     15259 non-null  int64         \n",
            " 90  Varanda gourmet               15259 non-null  int64         \n",
            " 91  Vigia                         15259 non-null  int64         \n",
            " 92  Vista para a montanha         15259 non-null  int64         \n",
            " 93  Vista para o mar              15259 non-null  int64         \n",
            " 94  Área de lazer                 15259 non-null  int64         \n",
            " 95  Área de serviço               15259 non-null  int64         \n",
            "dtypes: datetime64[ns](1), float64(1), int64(90), object(4)\n",
            "memory usage: 11.2+ MB\n"
          ]
        }
      ]
    },
    {
      "cell_type": "markdown",
      "metadata": {
        "id": "s8tQHMU2YsHc"
      },
      "source": [
        "# Trabalhando com a informação Address"
      ]
    },
    {
      "cell_type": "code",
      "metadata": {
        "id": "40OdqH0GYxKc"
      },
      "source": [
        "#Criando uma coluna de estado\n",
        "vr[\"estado\"] = vr[\"address\"].str.split(\" - \").str[-1]"
      ],
      "execution_count": null,
      "outputs": []
    },
    {
      "cell_type": "code",
      "metadata": {
        "colab": {
          "base_uri": "https://localhost:8080/"
        },
        "id": "Thb-DBf2dBHY",
        "outputId": "3c47760e-1ff2-4176-c680-e8ea83d67d6a"
      },
      "source": [
        "#Verificando os estados que temos na base\n",
        "vr[\"estado\"].unique()"
      ],
      "execution_count": null,
      "outputs": [
        {
          "output_type": "execute_result",
          "data": {
            "text/plain": [
              "array(['SP', 'SC'], dtype=object)"
            ]
          },
          "metadata": {},
          "execution_count": 50
        }
      ]
    },
    {
      "cell_type": "code",
      "metadata": {
        "id": "hyBGFnk9dF4f"
      },
      "source": [
        "#Vou deixar somente o estado SP\n",
        "vr = vr.loc[vr[\"estado\"] == \"SP\"].reset_index(drop = True)"
      ],
      "execution_count": null,
      "outputs": []
    },
    {
      "cell_type": "code",
      "metadata": {
        "colab": {
          "base_uri": "https://localhost:8080/",
          "height": 387
        },
        "id": "wmFUoRTXdRjz",
        "outputId": "f0550dac-2922-4bd1-aa2f-00cb46413186"
      },
      "source": [
        "#Verificando se temos cidades fora de São Paulo. O Sinal ~ serve como negação.\n",
        "vr[~vr[\"address\"].str.contains(\"São Paulo\")]"
      ],
      "execution_count": null,
      "outputs": [
        {
          "output_type": "execute_result",
          "data": {
            "text/html": [
              "<div>\n",
              "<style scoped>\n",
              "    .dataframe tbody tr th:only-of-type {\n",
              "        vertical-align: middle;\n",
              "    }\n",
              "\n",
              "    .dataframe tbody tr th {\n",
              "        vertical-align: top;\n",
              "    }\n",
              "\n",
              "    .dataframe thead th {\n",
              "        text-align: right;\n",
              "    }\n",
              "</style>\n",
              "<table border=\"1\" class=\"dataframe\">\n",
              "  <thead>\n",
              "    <tr style=\"text-align: right;\">\n",
              "      <th></th>\n",
              "      <th>id</th>\n",
              "      <th>url</th>\n",
              "      <th>header</th>\n",
              "      <th>address</th>\n",
              "      <th>area</th>\n",
              "      <th>rooms</th>\n",
              "      <th>bathrooms</th>\n",
              "      <th>garages</th>\n",
              "      <th>price</th>\n",
              "      <th>condo</th>\n",
              "      <th>bairro</th>\n",
              "      <th>crawled_at</th>\n",
              "      <th>Academia</th>\n",
              "      <th>Aceita animais</th>\n",
              "      <th>Acesso para deficientes</th>\n",
              "      <th>Aquecimento</th>\n",
              "      <th>Ar-condicionado</th>\n",
              "      <th>Armário embutido</th>\n",
              "      <th>Armário embutido no quarto</th>\n",
              "      <th>Armário na cozinha</th>\n",
              "      <th>Armário no banheiro</th>\n",
              "      <th>Bicicletário</th>\n",
              "      <th>Box blindex</th>\n",
              "      <th>Cabeamento estruturado</th>\n",
              "      <th>Churrasqueira</th>\n",
              "      <th>Cinema</th>\n",
              "      <th>Circuito de segurança</th>\n",
              "      <th>Closet</th>\n",
              "      <th>Condomínio fechado</th>\n",
              "      <th>Conexão à internet</th>\n",
              "      <th>Copa</th>\n",
              "      <th>Coworking</th>\n",
              "      <th>Cozinha</th>\n",
              "      <th>Cozinha americana</th>\n",
              "      <th>Cozinha grande</th>\n",
              "      <th>Câmera de segurança</th>\n",
              "      <th>Depósito</th>\n",
              "      <th>Elevador</th>\n",
              "      <th>Escritório</th>\n",
              "      <th>Espaço gourmet</th>\n",
              "      <th>...</th>\n",
              "      <th>Móvel planejado</th>\n",
              "      <th>Perto de vias de acesso</th>\n",
              "      <th>Piscina</th>\n",
              "      <th>Piscina coberta</th>\n",
              "      <th>Piscina infantil</th>\n",
              "      <th>Piscina para adulto</th>\n",
              "      <th>Piso frio</th>\n",
              "      <th>Pista de cooper</th>\n",
              "      <th>Playground</th>\n",
              "      <th>Portaria 24h</th>\n",
              "      <th>Portão eletrônico</th>\n",
              "      <th>Próximo a escola</th>\n",
              "      <th>Próximo a hospitais</th>\n",
              "      <th>Próximo a shopping</th>\n",
              "      <th>Próximo a transporte público</th>\n",
              "      <th>Quadra de squash</th>\n",
              "      <th>Quadra de tênis</th>\n",
              "      <th>Quadra poliesportiva</th>\n",
              "      <th>Quintal</th>\n",
              "      <th>Recepção</th>\n",
              "      <th>Sala de jantar</th>\n",
              "      <th>Sala de massagem</th>\n",
              "      <th>Salão de festas</th>\n",
              "      <th>Salão de jogos</th>\n",
              "      <th>Sauna</th>\n",
              "      <th>Segurança 24h</th>\n",
              "      <th>Serviços pay per use</th>\n",
              "      <th>Serviços públicos essenciais</th>\n",
              "      <th>Sistema de alarme</th>\n",
              "      <th>Spa</th>\n",
              "      <th>TV a cabo</th>\n",
              "      <th>Varanda</th>\n",
              "      <th>Varanda fechada com vidro</th>\n",
              "      <th>Varanda gourmet</th>\n",
              "      <th>Vigia</th>\n",
              "      <th>Vista para a montanha</th>\n",
              "      <th>Vista para o mar</th>\n",
              "      <th>Área de lazer</th>\n",
              "      <th>Área de serviço</th>\n",
              "      <th>estado</th>\n",
              "    </tr>\n",
              "  </thead>\n",
              "  <tbody>\n",
              "    <tr>\n",
              "      <th>1552</th>\n",
              "      <td>2522201621</td>\n",
              "      <td>https://www.vivareal.com.br/imovel/apartamento...</td>\n",
              "      <td>Apartamento com 2 Quartos à Venda, 60m²</td>\n",
              "      <td>Avenida Professor José Barreto - Butantã, Coti...</td>\n",
              "      <td>60</td>\n",
              "      <td>2</td>\n",
              "      <td>2</td>\n",
              "      <td>1</td>\n",
              "      <td>260000</td>\n",
              "      <td>687.0</td>\n",
              "      <td>Butanta</td>\n",
              "      <td>2021-06-10 16:35:00</td>\n",
              "      <td>1</td>\n",
              "      <td>0</td>\n",
              "      <td>0</td>\n",
              "      <td>0</td>\n",
              "      <td>0</td>\n",
              "      <td>0</td>\n",
              "      <td>0</td>\n",
              "      <td>0</td>\n",
              "      <td>0</td>\n",
              "      <td>0</td>\n",
              "      <td>0</td>\n",
              "      <td>0</td>\n",
              "      <td>1</td>\n",
              "      <td>0</td>\n",
              "      <td>0</td>\n",
              "      <td>0</td>\n",
              "      <td>0</td>\n",
              "      <td>0</td>\n",
              "      <td>0</td>\n",
              "      <td>0</td>\n",
              "      <td>0</td>\n",
              "      <td>0</td>\n",
              "      <td>0</td>\n",
              "      <td>0</td>\n",
              "      <td>0</td>\n",
              "      <td>0</td>\n",
              "      <td>0</td>\n",
              "      <td>0</td>\n",
              "      <td>...</td>\n",
              "      <td>0</td>\n",
              "      <td>0</td>\n",
              "      <td>1</td>\n",
              "      <td>0</td>\n",
              "      <td>0</td>\n",
              "      <td>0</td>\n",
              "      <td>0</td>\n",
              "      <td>0</td>\n",
              "      <td>1</td>\n",
              "      <td>0</td>\n",
              "      <td>0</td>\n",
              "      <td>0</td>\n",
              "      <td>0</td>\n",
              "      <td>0</td>\n",
              "      <td>0</td>\n",
              "      <td>0</td>\n",
              "      <td>0</td>\n",
              "      <td>0</td>\n",
              "      <td>0</td>\n",
              "      <td>0</td>\n",
              "      <td>0</td>\n",
              "      <td>0</td>\n",
              "      <td>1</td>\n",
              "      <td>0</td>\n",
              "      <td>0</td>\n",
              "      <td>0</td>\n",
              "      <td>0</td>\n",
              "      <td>0</td>\n",
              "      <td>0</td>\n",
              "      <td>0</td>\n",
              "      <td>0</td>\n",
              "      <td>0</td>\n",
              "      <td>0</td>\n",
              "      <td>0</td>\n",
              "      <td>0</td>\n",
              "      <td>0</td>\n",
              "      <td>0</td>\n",
              "      <td>0</td>\n",
              "      <td>0</td>\n",
              "      <td>SP</td>\n",
              "    </tr>\n",
              "    <tr>\n",
              "      <th>4536</th>\n",
              "      <td>2519563239</td>\n",
              "      <td>https://www.vivareal.com.br/imovel/apartamento...</td>\n",
              "      <td>Apartamento com 3 Quartos à Venda, 230m²</td>\n",
              "      <td>Rua Maranhão, 531 - Higienópolis, São Caetano ...</td>\n",
              "      <td>230</td>\n",
              "      <td>3</td>\n",
              "      <td>2</td>\n",
              "      <td>1</td>\n",
              "      <td>2119800</td>\n",
              "      <td>2000.0</td>\n",
              "      <td>Higienopolis</td>\n",
              "      <td>2021-06-10 17:09:00</td>\n",
              "      <td>0</td>\n",
              "      <td>0</td>\n",
              "      <td>0</td>\n",
              "      <td>0</td>\n",
              "      <td>1</td>\n",
              "      <td>0</td>\n",
              "      <td>0</td>\n",
              "      <td>0</td>\n",
              "      <td>0</td>\n",
              "      <td>0</td>\n",
              "      <td>0</td>\n",
              "      <td>0</td>\n",
              "      <td>0</td>\n",
              "      <td>0</td>\n",
              "      <td>0</td>\n",
              "      <td>0</td>\n",
              "      <td>0</td>\n",
              "      <td>0</td>\n",
              "      <td>0</td>\n",
              "      <td>0</td>\n",
              "      <td>0</td>\n",
              "      <td>0</td>\n",
              "      <td>0</td>\n",
              "      <td>0</td>\n",
              "      <td>0</td>\n",
              "      <td>0</td>\n",
              "      <td>0</td>\n",
              "      <td>0</td>\n",
              "      <td>...</td>\n",
              "      <td>0</td>\n",
              "      <td>0</td>\n",
              "      <td>0</td>\n",
              "      <td>0</td>\n",
              "      <td>0</td>\n",
              "      <td>0</td>\n",
              "      <td>0</td>\n",
              "      <td>0</td>\n",
              "      <td>0</td>\n",
              "      <td>0</td>\n",
              "      <td>0</td>\n",
              "      <td>0</td>\n",
              "      <td>0</td>\n",
              "      <td>0</td>\n",
              "      <td>0</td>\n",
              "      <td>0</td>\n",
              "      <td>0</td>\n",
              "      <td>0</td>\n",
              "      <td>0</td>\n",
              "      <td>0</td>\n",
              "      <td>0</td>\n",
              "      <td>0</td>\n",
              "      <td>0</td>\n",
              "      <td>0</td>\n",
              "      <td>0</td>\n",
              "      <td>0</td>\n",
              "      <td>0</td>\n",
              "      <td>0</td>\n",
              "      <td>0</td>\n",
              "      <td>0</td>\n",
              "      <td>0</td>\n",
              "      <td>0</td>\n",
              "      <td>0</td>\n",
              "      <td>0</td>\n",
              "      <td>0</td>\n",
              "      <td>0</td>\n",
              "      <td>0</td>\n",
              "      <td>0</td>\n",
              "      <td>1</td>\n",
              "      <td>SP</td>\n",
              "    </tr>\n",
              "  </tbody>\n",
              "</table>\n",
              "<p>2 rows × 97 columns</p>\n",
              "</div>"
            ],
            "text/plain": [
              "              id  ... estado\n",
              "1552  2522201621  ...     SP\n",
              "4536  2519563239  ...     SP\n",
              "\n",
              "[2 rows x 97 columns]"
            ]
          },
          "metadata": {},
          "execution_count": 54
        }
      ]
    },
    {
      "cell_type": "code",
      "metadata": {
        "id": "sdGgiPvcdsMZ"
      },
      "source": [
        "#Vou deixar somente as cidades de São Paulo\n",
        "vr = vr[vr[\"address\"].str.contains(\"São Paulo\")].reset_index(drop = True)"
      ],
      "execution_count": null,
      "outputs": []
    },
    {
      "cell_type": "code",
      "metadata": {
        "id": "77ynPdMdiUlp"
      },
      "source": [
        "#Criando a coluna Parse Bairro. \n",
        "#Estou extraindo somente o bairro do meu endereço\n",
        "vr[\"parse_bairro\"] = (vr[\"address\"]\n",
        "                      .str.split(\", São Paulo - SP\")\n",
        "                      .str[-2]\n",
        "                      .str.split(\" - \")\n",
        "                      .str[-1]\n",
        "                      .str.replace(\"- \", \"\"))"
      ],
      "execution_count": null,
      "outputs": []
    },
    {
      "cell_type": "code",
      "metadata": {
        "id": "xHlGJEpGj2Ca"
      },
      "source": [
        "#Normalizando o nome dos bairros (Retirando os acentos e deixando tudo minusculo)\n",
        "vr[\"parse_bairro\"] = (vr[\"parse_bairro\"]\n",
        "                      .str.lower()\n",
        "                      .str.normalize(\"NFKD\")\n",
        "                      .str.encode(\"ascii\",errors=\"ignore\")\n",
        "                      .str.decode(\"utf8\"))"
      ],
      "execution_count": null,
      "outputs": []
    },
    {
      "cell_type": "code",
      "metadata": {
        "id": "5gpzlHufl2w2"
      },
      "source": [
        "#Salvando a base de dados\n",
        "vr.to_csv(\"primary_data.csv\", index=False)"
      ],
      "execution_count": null,
      "outputs": []
    }
  ]
}